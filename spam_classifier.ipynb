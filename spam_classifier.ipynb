{
 "cells": [
  {
   "cell_type": "markdown",
   "metadata": {},
   "source": [
    "# Python Text Mining Assignment 3\n",
    "\n",
    "In this assignment you will explore text message data and create models to predict if a message is spam or not. "
   ]
  },
  {
   "cell_type": "code",
   "execution_count": 1,
   "metadata": {},
   "outputs": [
    {
     "data": {
      "text/html": [
       "<div>\n",
       "<style scoped>\n",
       "    .dataframe tbody tr th:only-of-type {\n",
       "        vertical-align: middle;\n",
       "    }\n",
       "\n",
       "    .dataframe tbody tr th {\n",
       "        vertical-align: top;\n",
       "    }\n",
       "\n",
       "    .dataframe thead th {\n",
       "        text-align: right;\n",
       "    }\n",
       "</style>\n",
       "<table border=\"1\" class=\"dataframe\">\n",
       "  <thead>\n",
       "    <tr style=\"text-align: right;\">\n",
       "      <th></th>\n",
       "      <th>text</th>\n",
       "      <th>target</th>\n",
       "    </tr>\n",
       "  </thead>\n",
       "  <tbody>\n",
       "    <tr>\n",
       "      <th>0</th>\n",
       "      <td>Go until jurong point, crazy.. Available only ...</td>\n",
       "      <td>0</td>\n",
       "    </tr>\n",
       "    <tr>\n",
       "      <th>1</th>\n",
       "      <td>Ok lar... Joking wif u oni...</td>\n",
       "      <td>0</td>\n",
       "    </tr>\n",
       "    <tr>\n",
       "      <th>2</th>\n",
       "      <td>Free entry in 2 a wkly comp to win FA Cup fina...</td>\n",
       "      <td>1</td>\n",
       "    </tr>\n",
       "    <tr>\n",
       "      <th>3</th>\n",
       "      <td>U dun say so early hor... U c already then say...</td>\n",
       "      <td>0</td>\n",
       "    </tr>\n",
       "    <tr>\n",
       "      <th>4</th>\n",
       "      <td>Nah I don't think he goes to usf, he lives aro...</td>\n",
       "      <td>0</td>\n",
       "    </tr>\n",
       "    <tr>\n",
       "      <th>5</th>\n",
       "      <td>FreeMsg Hey there darling it's been 3 week's n...</td>\n",
       "      <td>1</td>\n",
       "    </tr>\n",
       "    <tr>\n",
       "      <th>6</th>\n",
       "      <td>Even my brother is not like to speak with me. ...</td>\n",
       "      <td>0</td>\n",
       "    </tr>\n",
       "    <tr>\n",
       "      <th>7</th>\n",
       "      <td>As per your request 'Melle Melle (Oru Minnamin...</td>\n",
       "      <td>0</td>\n",
       "    </tr>\n",
       "    <tr>\n",
       "      <th>8</th>\n",
       "      <td>WINNER!! As a valued network customer you have...</td>\n",
       "      <td>1</td>\n",
       "    </tr>\n",
       "    <tr>\n",
       "      <th>9</th>\n",
       "      <td>Had your mobile 11 months or more? U R entitle...</td>\n",
       "      <td>1</td>\n",
       "    </tr>\n",
       "  </tbody>\n",
       "</table>\n",
       "</div>"
      ],
      "text/plain": [
       "                                                text  target\n",
       "0  Go until jurong point, crazy.. Available only ...       0\n",
       "1                      Ok lar... Joking wif u oni...       0\n",
       "2  Free entry in 2 a wkly comp to win FA Cup fina...       1\n",
       "3  U dun say so early hor... U c already then say...       0\n",
       "4  Nah I don't think he goes to usf, he lives aro...       0\n",
       "5  FreeMsg Hey there darling it's been 3 week's n...       1\n",
       "6  Even my brother is not like to speak with me. ...       0\n",
       "7  As per your request 'Melle Melle (Oru Minnamin...       0\n",
       "8  WINNER!! As a valued network customer you have...       1\n",
       "9  Had your mobile 11 months or more? U R entitle...       1"
      ]
     },
     "execution_count": 1,
     "metadata": {},
     "output_type": "execute_result"
    }
   ],
   "source": [
    "import pandas as pd\n",
    "import numpy as np\n",
    "\n",
    "# Read in text messages with labels\n",
    "spam_data = pd.read_csv('spam.csv')\n",
    "\n",
    "spam_data['target'] = np.where(spam_data['target']=='spam',1,0)\n",
    "spam_data.head(10)"
   ]
  },
  {
   "cell_type": "code",
   "execution_count": 2,
   "metadata": {},
   "outputs": [],
   "source": [
    "from sklearn.model_selection import train_test_split\n",
    "\n",
    "# Split data into test and training set\n",
    "X_train, X_test, y_train, y_test = train_test_split(spam_data['text'], \n",
    "                                                    spam_data['target'], \n",
    "                                                    random_state=0)"
   ]
  },
  {
   "cell_type": "markdown",
   "metadata": {},
   "source": [
    "### Question 1\n",
    "What percentage of the documents in `spam_data` are spam?\n",
    "\n",
    "*This function should return a float, the percent value (i.e. $ratio * 100$).*"
   ]
  },
  {
   "cell_type": "code",
   "execution_count": 3,
   "metadata": {},
   "outputs": [],
   "source": [
    "def answer_one():\n",
    "    \n",
    "    return np.mean(spam_data['target']) * 100 "
   ]
  },
  {
   "cell_type": "code",
   "execution_count": 4,
   "metadata": {},
   "outputs": [
    {
     "data": {
      "text/plain": [
       "13.406317300789663"
      ]
     },
     "execution_count": 4,
     "metadata": {},
     "output_type": "execute_result"
    }
   ],
   "source": [
    "answer_one()"
   ]
  },
  {
   "cell_type": "markdown",
   "metadata": {},
   "source": [
    "### Question 2\n",
    "\n",
    "Fit the training data `X_train` using a Count Vectorizer with default parameters.\n",
    "\n",
    "What is the longest token in the vocabulary?\n",
    "\n",
    "*This function should return a string.*"
   ]
  },
  {
   "cell_type": "code",
   "execution_count": 5,
   "metadata": {},
   "outputs": [],
   "source": [
    "from sklearn.feature_extraction.text import CountVectorizer\n",
    "\n",
    "def answer_two():\n",
    "    \n",
    "    # CountVectorizer converts a collection of text to a matrix of token counts\n",
    "    vect = CountVectorizer().fit(X_train)\n",
    "    # Get token name\n",
    "    tokens = vect.get_feature_names()\n",
    "    \n",
    "    return max(tokens, key = len) #Your answer here"
   ]
  },
  {
   "cell_type": "code",
   "execution_count": 6,
   "metadata": {},
   "outputs": [
    {
     "data": {
      "text/plain": [
       "'com1win150ppmx3age16subscription'"
      ]
     },
     "execution_count": 6,
     "metadata": {},
     "output_type": "execute_result"
    }
   ],
   "source": [
    "answer_two()"
   ]
  },
  {
   "cell_type": "markdown",
   "metadata": {},
   "source": [
    "### Question 3\n",
    "\n",
    "Fit and transform the training data `X_train` using a Count Vectorizer with default parameters.\n",
    "\n",
    "Next, fit a fit a multinomial Naive Bayes classifier model with smoothing `alpha=0.1`. Find the area under the curve (AUC) score using the transformed test data.\n",
    "\n",
    "*This function should return the AUC score as a float.*"
   ]
  },
  {
   "cell_type": "code",
   "execution_count": 7,
   "metadata": {},
   "outputs": [],
   "source": [
    "from sklearn.naive_bayes import MultinomialNB\n",
    "from sklearn.metrics import roc_auc_score\n",
    "\n",
    "def answer_three():\n",
    "    \n",
    "    vect = CountVectorizer().fit(X_train)\n",
    "    X_train_vect = vect.transform(X_train)\n",
    "    \n",
    "    # Train Naive Bayes\n",
    "    clfNB = MultinomialNB(alpha=0.1).fit(X_train_vect, y_train)\n",
    "    # Predict test set y\n",
    "    y_pred = clfNB.predict(vect.transform(X_test))\n",
    "    \n",
    "    # Return AUC score\n",
    "    return roc_auc_score(y_test, y_pred) #Your answer here"
   ]
  },
  {
   "cell_type": "code",
   "execution_count": 8,
   "metadata": {},
   "outputs": [
    {
     "data": {
      "text/plain": [
       "0.9720812182741116"
      ]
     },
     "execution_count": 8,
     "metadata": {},
     "output_type": "execute_result"
    }
   ],
   "source": [
    "answer_three()"
   ]
  },
  {
   "cell_type": "markdown",
   "metadata": {},
   "source": [
    "### Question 4\n",
    "\n",
    "Fit and transform the training data `X_train` using a Tfidf Vectorizer with default parameters.\n",
    "\n",
    "What 20 features have the smallest tf-idf and what 20 have the largest tf-idf?\n",
    "\n",
    "Put these features in a two series where each series is sorted by tf-idf value and then alphabetically by feature name. The index of the series should be the feature name, and the data should be the tf-idf.\n",
    "\n",
    "The series of 20 features with smallest tf-idfs should be sorted smallest tfidf first, the list of 20 features with largest tf-idfs should be sorted largest first. \n",
    "\n",
    "*This function should return a tuple of two series\n",
    "`(smallest tf-idfs series, largest tf-idfs series)`.*"
   ]
  },
  {
   "cell_type": "code",
   "execution_count": 9,
   "metadata": {},
   "outputs": [],
   "source": [
    "from sklearn.feature_extraction.text import TfidfVectorizer\n",
    "\n",
    "def answer_four():\n",
    "    \n",
    "    # TfidfVectorizer converts a collection of text to a matrix of token tf-idf\n",
    "    # (term frequency-inverse document frequency), which reflects how important \n",
    "    # a word is to a document\n",
    "    vect = TfidfVectorizer().fit(X_train)\n",
    "    X_train_vect = vect.transform(X_train)\n",
    "    # Get the max tf-idf for each token\n",
    "    tf_idf = X_train_vect.max(0).toarray()[0]\n",
    "    # Get rank for each token according to tf-idf\n",
    "    sorted_tfidf_index = tf_idf.argsort()\n",
    "\n",
    "    features = np.array(vect.get_feature_names())\n",
    "    smallest = pd.Series(tf_idf[sorted_tfidf_index][:20], \n",
    "                         index = features[sorted_tfidf_index][:20])\n",
    "    largest = pd.Series(tf_idf[sorted_tfidf_index][:-21:-1], \n",
    "                        index = features[sorted_tfidf_index][:-21:-1])\n",
    "    \n",
    "    return (smallest, largest) "
   ]
  },
  {
   "cell_type": "code",
   "execution_count": 10,
   "metadata": {},
   "outputs": [
    {
     "data": {
      "text/plain": [
       "(sympathetic     0.074475\n",
       " healer          0.074475\n",
       " aaniye          0.074475\n",
       " dependable      0.074475\n",
       " companion       0.074475\n",
       " listener        0.074475\n",
       " athletic        0.074475\n",
       " exterminator    0.074475\n",
       " psychiatrist    0.074475\n",
       " pest            0.074475\n",
       " determined      0.074475\n",
       " chef            0.074475\n",
       " courageous      0.074475\n",
       " stylist         0.074475\n",
       " psychologist    0.074475\n",
       " organizer       0.074475\n",
       " pudunga         0.074475\n",
       " venaam          0.074475\n",
       " diwali          0.091250\n",
       " mornings        0.091250\n",
       " dtype: float64,\n",
       " 146tf150p    1.000000\n",
       " havent       1.000000\n",
       " home         1.000000\n",
       " okie         1.000000\n",
       " thanx        1.000000\n",
       " er           1.000000\n",
       " anything     1.000000\n",
       " lei          1.000000\n",
       " nite         1.000000\n",
       " yup          1.000000\n",
       " thank        1.000000\n",
       " ok           1.000000\n",
       " where        1.000000\n",
       " beerage      1.000000\n",
       " anytime      1.000000\n",
       " too          1.000000\n",
       " done         1.000000\n",
       " 645          1.000000\n",
       " tick         0.980166\n",
       " blank        0.932702\n",
       " dtype: float64)"
      ]
     },
     "execution_count": 10,
     "metadata": {},
     "output_type": "execute_result"
    }
   ],
   "source": [
    "answer_four()"
   ]
  },
  {
   "cell_type": "markdown",
   "metadata": {},
   "source": [
    "### Question 5\n",
    "\n",
    "Fit and transform the training data `X_train` using a Tfidf Vectorizer ignoring terms that have a document frequency strictly lower than **3**.\n",
    "\n",
    "Then fit a multinomial Naive Bayes classifier model with smoothing `alpha=0.1` and compute the area under the curve (AUC) score using the transformed test data.\n",
    "\n",
    "*This function should return the AUC score as a float.*"
   ]
  },
  {
   "cell_type": "code",
   "execution_count": 11,
   "metadata": {},
   "outputs": [],
   "source": [
    "def answer_five():\n",
    "    \n",
    "    vect = TfidfVectorizer(min_df=3).fit(X_train)\n",
    "    X_train_vect = vect.transform(X_train)\n",
    "    X_test_vect = vect.transform(X_test)\n",
    "\n",
    "    clfNB = MultinomialNB(alpha = 0.1).fit(X_train_vect, y_train)\n",
    "    y_pred = clfNB.predict(X_test_vect)\n",
    "    \n",
    "    return roc_auc_score(y_test, y_pred) "
   ]
  },
  {
   "cell_type": "code",
   "execution_count": 12,
   "metadata": {},
   "outputs": [
    {
     "data": {
      "text/plain": [
       "0.9416243654822335"
      ]
     },
     "execution_count": 12,
     "metadata": {},
     "output_type": "execute_result"
    }
   ],
   "source": [
    "answer_five()"
   ]
  },
  {
   "cell_type": "markdown",
   "metadata": {},
   "source": [
    "### Question 6\n",
    "\n",
    "What is the average length of documents (number of characters) for not spam and spam documents?\n",
    "\n",
    "*This function should return a tuple (average length not spam, average length spam).*"
   ]
  },
  {
   "cell_type": "code",
   "execution_count": 13,
   "metadata": {},
   "outputs": [],
   "source": [
    "def answer_six():\n",
    "    \n",
    "    nonspam_text = spam_data[spam_data['target']==0]['text']\n",
    "    spam_text = spam_data[spam_data['target']==1]['text']\n",
    "    \n",
    "    # List comprehension to get length for each text\n",
    "    avg_len_nonspam = np.mean([len(t) for t in nonspam_text])\n",
    "    avg_len_spam = np.mean([len(t) for t in spam_text])\n",
    "    \n",
    "    return (avg_len_nonspam, avg_len_spam) "
   ]
  },
  {
   "cell_type": "code",
   "execution_count": 14,
   "metadata": {},
   "outputs": [
    {
     "data": {
      "text/plain": [
       "(71.02362694300518, 138.8661311914324)"
      ]
     },
     "execution_count": 14,
     "metadata": {},
     "output_type": "execute_result"
    }
   ],
   "source": [
    "answer_six()"
   ]
  },
  {
   "cell_type": "markdown",
   "metadata": {},
   "source": [
    "<br>\n",
    "<br>\n",
    "The following function has been provided to help you combine new features into the training data:"
   ]
  },
  {
   "cell_type": "code",
   "execution_count": 15,
   "metadata": {},
   "outputs": [],
   "source": [
    "def add_feature(X, feature_to_add):\n",
    "    \"\"\"\n",
    "    Returns sparse feature matrix with added feature.\n",
    "    feature_to_add can also be a list of features.\n",
    "    \"\"\"\n",
    "    from scipy.sparse import csr_matrix, hstack\n",
    "    return hstack([X, csr_matrix(feature_to_add).T], 'csr')"
   ]
  },
  {
   "cell_type": "markdown",
   "metadata": {},
   "source": [
    "### Question 7\n",
    "\n",
    "Fit and transform the training data X_train using a Tfidf Vectorizer ignoring terms that have a document frequency strictly lower than **5**.\n",
    "\n",
    "Using this document-term matrix and an additional feature, **the length of document (number of characters)**, fit a Support Vector Classification model with regularization `C=10000`. Then compute the area under the curve (AUC) score using the transformed test data.\n",
    "\n",
    "*This function should return the AUC score as a float.*"
   ]
  },
  {
   "cell_type": "code",
   "execution_count": 16,
   "metadata": {},
   "outputs": [],
   "source": [
    "from sklearn.svm import SVC\n",
    "\n",
    "def answer_seven():\n",
    "    vect = TfidfVectorizer(min_df=5).fit(X_train)\n",
    "    X_train_vect = vect.transform(X_train)\n",
    "    X_test_vect = vect.transform(X_test)\n",
    "    \n",
    "    # Add text length to features\n",
    "    len_train = [len(t) for t in X_train]\n",
    "    len_test = [len(t) for t in X_test]\n",
    "    X_train_vect = add_feature(X_train_vect, len_train)\n",
    "    X_test_vect = add_feature(X_test_vect, len_test)\n",
    "    \n",
    "    # Train support vector machine\n",
    "    clfSVM = SVC(C = 10000).fit(X_train_vect, y_train)\n",
    "    y_pred = clfSVM.predict(X_test_vect)    \n",
    "    \n",
    "    return roc_auc_score(y_test, y_pred) "
   ]
  },
  {
   "cell_type": "code",
   "execution_count": 17,
   "metadata": {},
   "outputs": [
    {
     "data": {
      "text/plain": [
       "0.9661689557407943"
      ]
     },
     "execution_count": 17,
     "metadata": {},
     "output_type": "execute_result"
    }
   ],
   "source": [
    "answer_seven()"
   ]
  },
  {
   "cell_type": "markdown",
   "metadata": {},
   "source": [
    "### Question 8\n",
    "\n",
    "What is the average number of digits per document for not spam and spam documents?\n",
    "\n",
    "*This function should return a tuple (average # digits not spam, average # digits spam).*"
   ]
  },
  {
   "cell_type": "code",
   "execution_count": 18,
   "metadata": {},
   "outputs": [],
   "source": [
    "def count_digit(text):\n",
    "    count = 0\n",
    "    for w in text:\n",
    "        if w.isdigit():\n",
    "            count += 1\n",
    "    return count   "
   ]
  },
  {
   "cell_type": "code",
   "execution_count": 19,
   "metadata": {},
   "outputs": [],
   "source": [
    "def answer_eight():\n",
    "    \n",
    "    nonspam_text = spam_data[spam_data['target']==0]['text']\n",
    "    spam_text = spam_data[spam_data['target']==1]['text']\n",
    "    \n",
    "    nonspam_digits = np.mean([count_digit(t) for t in nonspam_text])\n",
    "    spam_digits = np.mean([count_digit(t) for t in spam_text])\n",
    "    \n",
    "    return (nonspam_digits, spam_digits) "
   ]
  },
  {
   "cell_type": "code",
   "execution_count": 20,
   "metadata": {},
   "outputs": [
    {
     "data": {
      "text/plain": [
       "(0.2992746113989637, 15.759036144578314)"
      ]
     },
     "execution_count": 20,
     "metadata": {},
     "output_type": "execute_result"
    }
   ],
   "source": [
    "answer_eight()"
   ]
  },
  {
   "cell_type": "markdown",
   "metadata": {},
   "source": [
    "### Question 9\n",
    "\n",
    "Fit and transform the training data `X_train` using a Tfidf Vectorizer ignoring terms that have a document frequency strictly lower than **5** and using **word n-grams from n=1 to n=3** (unigrams, bigrams, and trigrams).\n",
    "\n",
    "Using this document-term matrix and the following additional features:\n",
    "* the length of document (number of characters)\n",
    "* **number of digits per document**\n",
    "\n",
    "fit a Logistic Regression model with regularization `C=100`. Then compute the area under the curve (AUC) score using the transformed test data.\n",
    "\n",
    "*This function should return the AUC score as a float.*"
   ]
  },
  {
   "cell_type": "code",
   "execution_count": 21,
   "metadata": {},
   "outputs": [],
   "source": [
    "from sklearn.linear_model import LogisticRegression\n",
    "\n",
    "def answer_nine():     \n",
    "    \n",
    "    # Now the tokens include word bigrams and trigrams, in addition to unigrams\n",
    "    vect = TfidfVectorizer(min_df=5, ngram_range=(1,3)).fit(X_train)\n",
    "    X_train_vect = vect.transform(X_train)\n",
    "    X_test_vect = vect.transform(X_test)\n",
    "    \n",
    "    # Add text length to features\n",
    "    len_train = [len(t) for t in X_train]\n",
    "    len_test = [len(t) for t in X_test]\n",
    "    X_train_vect = add_feature(X_train_vect, len_train)\n",
    "    X_test_vect = add_feature(X_test_vect, len_test)\n",
    "    \n",
    "    # Add number of digits to features\n",
    "    digit_train = [count_digit(t) for t in X_train]\n",
    "    digit_test = [count_digit(t) for t in X_test]\n",
    "    X_train_vect = add_feature(X_train_vect, digit_train)\n",
    "    X_test_vect = add_feature(X_test_vect, digit_test)\n",
    "    \n",
    "    # Train logistic regression model\n",
    "    clfLR = LogisticRegression(C = 100, max_iter=1000).fit(X_train_vect, y_train)\n",
    "    y_pred = clfLR.predict(X_test_vect)    \n",
    "    \n",
    "    return roc_auc_score(y_test, y_pred)"
   ]
  },
  {
   "cell_type": "code",
   "execution_count": 22,
   "metadata": {},
   "outputs": [
    {
     "data": {
      "text/plain": [
       "0.9678709064054463"
      ]
     },
     "execution_count": 22,
     "metadata": {},
     "output_type": "execute_result"
    }
   ],
   "source": [
    "answer_nine()"
   ]
  },
  {
   "cell_type": "markdown",
   "metadata": {},
   "source": [
    "### Question 10\n",
    "\n",
    "What is the average number of non-word characters (anything other than a letter, digit or underscore) per document for not spam and spam documents?\n",
    "\n",
    "*Hint: Use `\\w` and `\\W` character classes*\n",
    "\n",
    "*This function should return a tuple (average # non-word characters not spam, average # non-word characters spam).*"
   ]
  },
  {
   "cell_type": "code",
   "execution_count": 23,
   "metadata": {},
   "outputs": [],
   "source": [
    "def count_non_word(text):\n",
    "    count = 0\n",
    "    for w in text:\n",
    "        if w in r'[\\W]':\n",
    "            count += 1\n",
    "    return count"
   ]
  },
  {
   "cell_type": "code",
   "execution_count": 24,
   "metadata": {},
   "outputs": [],
   "source": [
    "import re\n",
    "def answer_ten():\n",
    "    \n",
    "    nonspam_text = spam_data[spam_data['target']==0]['text']\n",
    "    spam_text = spam_data[spam_data['target']==1]['text']\n",
    "    \n",
    "    nonword_nonspam = np.mean([len(re.findall('\\W', t)) for t in nonspam_text])\n",
    "    nonword_spam = np.mean([len(re.findall('\\W', t)) for t in spam_text])\n",
    "    \n",
    "    return (nonword_nonspam, nonword_spam) "
   ]
  },
  {
   "cell_type": "code",
   "execution_count": 25,
   "metadata": {},
   "outputs": [
    {
     "data": {
      "text/plain": [
       "(17.29181347150259, 29.041499330655956)"
      ]
     },
     "execution_count": 25,
     "metadata": {},
     "output_type": "execute_result"
    }
   ],
   "source": [
    "answer_ten()"
   ]
  },
  {
   "cell_type": "markdown",
   "metadata": {},
   "source": [
    "### Question 11\n",
    "\n",
    "Fit and transform the training data X_train using a Count Vectorizer ignoring terms that have a document frequency strictly lower than **5** and using **character n-grams from n=2 to n=5.**\n",
    "\n",
    "To tell Count Vectorizer to use character n-grams pass in `analyzer='char_wb'` which creates character n-grams only from text inside word boundaries. This should make the model more robust to spelling mistakes.\n",
    "\n",
    "Using this document-term matrix and the following additional features:\n",
    "* the length of document (number of characters)\n",
    "* number of digits per document\n",
    "* **number of non-word characters (anything other than a letter, digit or underscore.)**\n",
    "\n",
    "fit a Logistic Regression model with regularization C=100. Then compute the area under the curve (AUC) score using the transformed test data.\n",
    "\n",
    "Also **find the 10 smallest and 10 largest coefficients from the model** and return them along with the AUC score in a tuple.\n",
    "\n",
    "The list of 10 smallest coefficients should be sorted smallest first, the list of 10 largest coefficients should be sorted largest first.\n",
    "\n",
    "The three features that were added to the document term matrix should have the following names should they appear in the list of coefficients:\n",
    "['length_of_doc', 'digit_count', 'non_word_char_count']\n",
    "\n",
    "*This function should return a tuple `(AUC score as a float, smallest coefs list, largest coefs list)`.*"
   ]
  },
  {
   "cell_type": "code",
   "execution_count": 26,
   "metadata": {},
   "outputs": [],
   "source": [
    "def answer_eleven():     \n",
    "    \n",
    "    # Now we use character 2- to 5-grams by passing in analyzer='char_wb'\n",
    "    vect = CountVectorizer(min_df=5, ngram_range=(2,5), \n",
    "                           analyzer='char_wb').fit(X_train)\n",
    "    X_train_vect = vect.transform(X_train)\n",
    "    X_test_vect = vect.transform(X_test)\n",
    "    \n",
    "    # Add text length to features\n",
    "    len_train = [len(t) for t in X_train]\n",
    "    len_test = [len(t) for t in X_test]\n",
    "    X_train_vect = add_feature(X_train_vect, len_train)\n",
    "    X_test_vect = add_feature(X_test_vect, len_test)\n",
    "    \n",
    "    # Add number of digits to features\n",
    "    digit_train = [count_digit(t) for t in X_train]\n",
    "    digit_test = [count_digit(t) for t in X_test]\n",
    "    X_train_vect = add_feature(X_train_vect, digit_train)\n",
    "    X_test_vect = add_feature(X_test_vect, digit_test)\n",
    "    \n",
    "    # Add non-word count to features\n",
    "    nonword_train = [len(re.findall('\\W', t)) for t in X_train]\n",
    "    nonword_test = [len(re.findall('\\W', t)) for t in X_test]\n",
    "    X_train_vect = add_feature(X_train_vect, nonword_train)\n",
    "    X_test_vect = add_feature(X_test_vect, nonword_test)    \n",
    "    \n",
    "    # Train logistic regression\n",
    "    clfLR = LogisticRegression(C = 100, max_iter=1000).fit(X_train_vect, y_train)\n",
    "    y_pred = clfLR.predict(X_test_vect)    \n",
    "    \n",
    "    # Get feature importance\n",
    "    sorted_coef_index = clfLR.coef_[0].argsort()\n",
    "    features = np.array(vect.get_feature_names())\n",
    "    features = np.append(features, \n",
    "                         ['length_of_doc', 'digit_count', 'non_word_char_count'])\n",
    "    \n",
    "    return (roc_auc_score(y_test, y_pred),\n",
    "           features[sorted_coef_index][:10], \n",
    "            features[sorted_coef_index][:-11:-1])    "
   ]
  },
  {
   "cell_type": "code",
   "execution_count": 27,
   "metadata": {},
   "outputs": [
    {
     "data": {
      "text/plain": [
       "(0.9780231906694056,\n",
       " array([' i', 'ca', '..', '. ', 'pe', ' go', ' m', 'if', 'us', 'go'],\n",
       "       dtype='<U19'),\n",
       " array(['digit_count', 'ia', ' r', 'xt', 'ne', 'co', ' ba', ' x', '46',\n",
       "        'ian '], dtype='<U19'))"
      ]
     },
     "execution_count": 27,
     "metadata": {},
     "output_type": "execute_result"
    }
   ],
   "source": [
    "answer_eleven()"
   ]
  },
  {
   "cell_type": "code",
   "execution_count": 28,
   "metadata": {},
   "outputs": [],
   "source": [
    "def answer_twelve():     \n",
    "    \n",
    "    # Try the same using word 1- to 3-grams\n",
    "    vect = CountVectorizer(min_df=3, ngram_range=(1,3)).fit(X_train)\n",
    "    X_train_vect = vect.transform(X_train)\n",
    "    X_test_vect = vect.transform(X_test)\n",
    "    \n",
    "    # Add text length to features\n",
    "    len_train = [len(t) for t in X_train]\n",
    "    len_test = [len(t) for t in X_test]\n",
    "    X_train_vect = add_feature(X_train_vect, len_train)\n",
    "    X_test_vect = add_feature(X_test_vect, len_test)\n",
    "    \n",
    "    # Add number of digits to features\n",
    "    digit_train = [count_digit(t) for t in X_train]\n",
    "    digit_test = [count_digit(t) for t in X_test]\n",
    "    X_train_vect = add_feature(X_train_vect, digit_train)\n",
    "    X_test_vect = add_feature(X_test_vect, digit_test)\n",
    "    \n",
    "    # Add non-word count to features\n",
    "    nonword_train = [len(re.findall('\\W', t)) for t in X_train]\n",
    "    nonword_test = [len(re.findall('\\W', t)) for t in X_test]\n",
    "    X_train_vect = add_feature(X_train_vect, nonword_train)\n",
    "    X_test_vect = add_feature(X_test_vect, nonword_test)    \n",
    "    \n",
    "    # Train logistic regression\n",
    "    clfLR = LogisticRegression(C = 100, max_iter=1000).fit(X_train_vect, y_train)\n",
    "    y_pred = clfLR.predict(X_test_vect)    \n",
    "    \n",
    "    # Get feature importance\n",
    "    sorted_coef_index = clfLR.coef_[0].argsort()\n",
    "    features = np.array(vect.get_feature_names())\n",
    "    features = np.append(features, \n",
    "                         ['length_of_doc', 'digit_count', 'non_word_char_count'])\n",
    "    \n",
    "    return (roc_auc_score(y_test, y_pred),\n",
    "           features[sorted_coef_index][:10], \n",
    "            features[sorted_coef_index][:-11:-1])   "
   ]
  },
  {
   "cell_type": "code",
   "execution_count": 29,
   "metadata": {},
   "outputs": [
    {
     "data": {
      "text/plain": [
       "(0.9712748077347504,\n",
       " array(['all', 'if', 'got', 'call', 'my', 'hey', 'say', 'just', 'tomorrow',\n",
       "        '1st'], dtype='<U39'),\n",
       " array(['text', 'sale', 'tones', 'but no', 'reply', 'girls', 'sms',\n",
       "        'content', 'free', 'for'], dtype='<U39'))"
      ]
     },
     "execution_count": 29,
     "metadata": {},
     "output_type": "execute_result"
    }
   ],
   "source": [
    "answer_twelve()"
   ]
  },
  {
   "cell_type": "markdown",
   "metadata": {},
   "source": [
    "## Reflections\n",
    "It is interesting to find that character n-grams used in `answer_eleven()` works significantly better than word n-grams used in `answer_twelve()`, with all other conditions being the same. The most and least coefficients for `answer_eleven()` are also somewhat harder to interpret. The fact that character n-grams work better might have to do with spam email containing a lot of non-standard spellings, perhaps in order to bypass the spam filtering systems, as shown in the samples below. The non-standard spellings might be picked up more easily using character n-grams."
   ]
  },
  {
   "cell_type": "code",
   "execution_count": 30,
   "metadata": {},
   "outputs": [
    {
     "data": {
      "text/plain": [
       "2     Free entry in 2 a wkly comp to win FA Cup fina...\n",
       "5     FreeMsg Hey there darling it's been 3 week's n...\n",
       "8     WINNER!! As a valued network customer you have...\n",
       "9     Had your mobile 11 months or more? U R entitle...\n",
       "11    SIX chances to win CASH! From 100 to 20,000 po...\n",
       "12    URGENT! You have won a 1 week FREE membership ...\n",
       "15    XXXMobileMovieClub: To use your credit, click ...\n",
       "19    England v Macedonia - dont miss the goals/team...\n",
       "34    Thanks for your subscription to Ringtone UK yo...\n",
       "42    07732584351 - Rodger Burns - MSG = We tried to...\n",
       "Name: text, dtype: object"
      ]
     },
     "execution_count": 30,
     "metadata": {},
     "output_type": "execute_result"
    }
   ],
   "source": [
    "spam_data[spam_data['target']==1]['text'][:10]"
   ]
  },
  {
   "cell_type": "code",
   "execution_count": null,
   "metadata": {},
   "outputs": [],
   "source": []
  }
 ],
 "metadata": {
  "coursera": {
   "course_slug": "python-text-mining",
   "graded_item_id": "Pn19K",
   "launcher_item_id": "y1juS",
   "part_id": "ctlgo"
  },
  "kernelspec": {
   "display_name": "Python 3",
   "language": "python",
   "name": "python3"
  },
  "language_info": {
   "codemirror_mode": {
    "name": "ipython",
    "version": 3
   },
   "file_extension": ".py",
   "mimetype": "text/x-python",
   "name": "python",
   "nbconvert_exporter": "python",
   "pygments_lexer": "ipython3",
   "version": "3.8.5"
  }
 },
 "nbformat": 4,
 "nbformat_minor": 2
}
